{
 "cells": [
  {
   "cell_type": "markdown",
   "metadata": {},
   "source": [
    "# CLASIFICAR ggF y VBF CON MACHINE LEARNING"
   ]
  },
  {
   "cell_type": "markdown",
   "metadata": {},
   "source": [
    "## PAQUETES"
   ]
  },
  {
   "cell_type": "code",
   "execution_count": 2,
   "metadata": {},
   "outputs": [],
   "source": [
    "# dataframes \n",
    "import numpy as np\n",
    "import pandas as pd\n",
    "\n",
    "# cargar archivos\n",
    "import uproot\n",
    "from tqdm import tqdm # sirve para ver la linea de carga al cargar los archivos\n",
    "import sys\n",
    "import yaml\n",
    "\n",
    "# gráficos\n",
    "import matplotlib.pyplot as plt\n",
    "import seaborn as sns\n",
    "# %matplotlib inline\n",
    "\n",
    "# funciones creadas\n",
    "from lectura import *\n",
    "from formulas import *\n",
    "from cortes import *\n",
    "from graficar import *\n",
    "\n",
    "# para hacer matriz confusion\n",
    "from sklearn.metrics import confusion_matrix"
   ]
  },
  {
   "cell_type": "code",
   "execution_count": 14,
   "metadata": {},
   "outputs": [],
   "source": [
    "def confusion(modelo, X_test, y_test):\n",
    "    y_pred = modelo.predict(X_test)\n",
    "    matriz = confusion_matrix(y_test, y_pred)\n",
    "    return matriz\n",
    "    # display_matriz = ConfusionMatrixDisplay(confusion_matrix=matriz)\n",
    "    # display_matriz.plot()\n",
    "    # plt.show()\n",
    "\n",
    "\n",
    "#                 Predicción Positivo    Predicción Negativo\n",
    "# Actual Positivo        TP                    FN\n",
    "# Actual Negativo        FP                    TN\n",
    "def plot_matriz(matrix, porcentaje, normalizado):\n",
    "    classes = [\"VBF\", \"ggF\"]\n",
    "\n",
    "    # normalizo los datos dependiendo si son vbf o ggf\n",
    "    if normalizado == True:\n",
    "        n_datos_vbf = matrix[0][0]+matrix[0][1]\n",
    "        n_datos_ggf = matrix[1][0]+matrix[1][1]\n",
    "        matriz_confusion = [[matrix[0][0]/n_datos_vbf,matrix[0][1]/n_datos_vbf],\n",
    "                            [matrix[1][0]/n_datos_ggf,matrix[1][1]/n_datos_ggf]]\n",
    "    else: \n",
    "        matriz_confusion = matrix\n",
    "\n",
    "\n",
    "    # Crear una figura y un subplot\n",
    "    plt.figure(figsize=(6, 6)) # para que no se vea tan grande\n",
    "    plt.matshow(matriz_confusion, cmap=\"Blues\", fignum=1)\n",
    "\n",
    "    # Agregar etiquetas\n",
    "    for i in range(2):\n",
    "        for j in range(2):\n",
    "            plt.text(j, i, np.format_float_scientific(matriz_confusion[i][j], precision=3), ha=\"center\", va=\"center\", fontsize=14, color=\"r\")\n",
    "\n",
    "    # Configuración de ejes y etiquetas\n",
    "    plt.xticks([0, 1], classes)\n",
    "    plt.yticks([0, 1], classes)\n",
    "    plt.xlabel(\"Predicción\", fontsize=12)\n",
    "    plt.ylabel(\"Valor Real\", fontsize=12)\n",
    "    plt.title(\"Matriz de Confusión\", fontsize=14)\n",
    "\n",
    "    # Mostrar el gráfico\n",
    "    plt.show()\n",
    "\n",
    "def plot_confusion_barras(matrix):\n",
    "\n",
    "    # normalizo los datos de vbf y ggf\n",
    "    n_datos_vbf = matrix[0][0]+matrix[0][1]\n",
    "    n_datos_ggf = matrix[1][0]+matrix[1][1]\n",
    "    datos = [matrix[0][0]/n_datos_vbf,matrix[0][1]/n_datos_vbf,\n",
    "            matrix[1][0]/n_datos_ggf,matrix[1][1]/n_datos_ggf]\n",
    "\n",
    "    # creo un dataframe para realizar el gráfico más facilmente con seaborn\n",
    "    matriz_graficar = {'normalized value':datos,\n",
    "                       'true origin':[\"VBF\", \"VBF\", \"ggF\", \"ggF\"],\n",
    "                       'classified as':[\"VBF\", \"ggf\", \"VBF\", \"ggf\"],}\n",
    "    df_matriz = pd.DataFrame(matriz_graficar)\n",
    "\n",
    "    # realizo el gráfico\n",
    "    plt.figure(figsize=(6, 6)) # para que no se vea tan grande\n",
    "    ax = sns.barplot(data = df_matriz,\n",
    "                x='classified as', \n",
    "                y ='normalized value',\n",
    "                hue = \"true origin\",\n",
    "                )\n",
    "    \n",
    "    # Agregar los valores encima de las barras\n",
    "    for p in ax.patches:\n",
    "        ax.annotate(f'{p.get_height():.3f}', (p.get_x() + p.get_width() / 2., p.get_height()),\n",
    "                    ha='center', va='center', fontsize=12, color='black', xytext=(0, 10),\n",
    "                    textcoords='offset points')\n",
    "    \n",
    "    ax.legend(title=\"true origin\", loc=\"upper center\")\n",
    "\n",
    "    plt.show()"
   ]
  },
  {
   "cell_type": "markdown",
   "metadata": {},
   "source": [
    "# MAIN"
   ]
  },
  {
   "cell_type": "code",
   "execution_count": 4,
   "metadata": {},
   "outputs": [],
   "source": [
    "########################################################\n",
    "########### LECTURA DATOS PREVIOS YAML #################\n",
    "########################################################\n",
    "\n",
    "# cargar archivo yaml\n",
    "path = \"/home/tomilee/Desktop/Universidad/dark_photons/proyecto_investigacion/codigo/\"\n",
    "data_yaml = read_data_yaml('parametros_cortes.yaml')      #Parámetros del calo\n",
    "\n",
    "# de data_yaml obtenemos los nombres de los datasets\n",
    "vbf_data = data_yaml['VBF'].values() #esto devuelve solo los valores de cada variable.\n",
    "ggf_data = data_yaml['ggF'].values() #esto devuelve solo los valores de cada variable.\n",
    "\n",
    "# de data_yaml obtenemos los nombres de las variables\n",
    "variables = data_yaml['recover_branches']\n",
    "# de data_yaml obtenemos las escalas de las variables\n",
    "scales = data_yaml['scale_variable']\n",
    "\n",
    "# de data_yaml obtenemos los nombres de los cortes y los valores de los cortes menores y mayores\n",
    "cuts = data_yaml['cuts']"
   ]
  },
  {
   "cell_type": "code",
   "execution_count": 5,
   "metadata": {},
   "outputs": [
    {
     "name": "stderr",
     "output_type": "stream",
     "text": [
      " 12%|█▎        | 1/8 [00:00<00:01,  4.77it/s]"
     ]
    },
    {
     "name": "stdout",
     "output_type": "stream",
     "text": [
      "samples/VBF/frvz_vbf_500757\n"
     ]
    },
    {
     "name": "stderr",
     "output_type": "stream",
     "text": [
      " 25%|██▌       | 2/8 [00:00<00:01,  4.71it/s]"
     ]
    },
    {
     "name": "stdout",
     "output_type": "stream",
     "text": [
      "samples/VBF/frvz_vbf_500758\n"
     ]
    },
    {
     "name": "stderr",
     "output_type": "stream",
     "text": [
      " 38%|███▊      | 3/8 [00:00<00:01,  4.71it/s]"
     ]
    },
    {
     "name": "stdout",
     "output_type": "stream",
     "text": [
      "samples/VBF/frvz_vbf_500759\n"
     ]
    },
    {
     "name": "stderr",
     "output_type": "stream",
     "text": [
      " 50%|█████     | 4/8 [00:00<00:00,  4.72it/s]"
     ]
    },
    {
     "name": "stdout",
     "output_type": "stream",
     "text": [
      "samples/VBF/frvz_vbf_500760\n"
     ]
    },
    {
     "name": "stderr",
     "output_type": "stream",
     "text": [
      " 62%|██████▎   | 5/8 [00:01<00:00,  4.64it/s]"
     ]
    },
    {
     "name": "stdout",
     "output_type": "stream",
     "text": [
      "samples/VBF/frvz_vbf_500761\n"
     ]
    },
    {
     "name": "stderr",
     "output_type": "stream",
     "text": [
      " 75%|███████▌  | 6/8 [00:01<00:00,  4.53it/s]"
     ]
    },
    {
     "name": "stdout",
     "output_type": "stream",
     "text": [
      "samples/VBF/frvz_vbf_500762\n"
     ]
    },
    {
     "name": "stderr",
     "output_type": "stream",
     "text": [
      " 88%|████████▊ | 7/8 [00:01<00:00,  4.57it/s]"
     ]
    },
    {
     "name": "stdout",
     "output_type": "stream",
     "text": [
      "samples/VBF/frvz_vbf_500763\n"
     ]
    },
    {
     "name": "stderr",
     "output_type": "stream",
     "text": [
      "100%|██████████| 8/8 [00:01<00:00,  4.61it/s]\n"
     ]
    },
    {
     "name": "stdout",
     "output_type": "stream",
     "text": [
      "samples/VBF/frvz_vbf_500764\n"
     ]
    },
    {
     "name": "stderr",
     "output_type": "stream",
     "text": [
      "100%|██████████| 9/9 [00:02<00:00,  3.19it/s]\n"
     ]
    },
    {
     "data": {
      "text/html": [
       "<div>\n",
       "<style scoped>\n",
       "    .dataframe tbody tr th:only-of-type {\n",
       "        vertical-align: middle;\n",
       "    }\n",
       "\n",
       "    .dataframe tbody tr th {\n",
       "        vertical-align: top;\n",
       "    }\n",
       "\n",
       "    .dataframe thead th {\n",
       "        text-align: right;\n",
       "    }\n",
       "</style>\n",
       "<table border=\"1\" class=\"dataframe\">\n",
       "  <thead>\n",
       "    <tr style=\"text-align: right;\">\n",
       "      <th></th>\n",
       "      <th></th>\n",
       "      <th>njet30</th>\n",
       "      <th>mjj</th>\n",
       "      <th>MET</th>\n",
       "      <th>scale1fb</th>\n",
       "      <th>intLumi</th>\n",
       "    </tr>\n",
       "    <tr>\n",
       "      <th>origin</th>\n",
       "      <th>df_name</th>\n",
       "      <th></th>\n",
       "      <th></th>\n",
       "      <th></th>\n",
       "      <th></th>\n",
       "      <th></th>\n",
       "    </tr>\n",
       "  </thead>\n",
       "  <tbody>\n",
       "    <tr>\n",
       "      <th rowspan=\"5\" valign=\"top\">VBF</th>\n",
       "      <th>samples/VBF/frvz_vbf_500757</th>\n",
       "      <td>2</td>\n",
       "      <td>1.316194e+06</td>\n",
       "      <td>177043.093750</td>\n",
       "      <td>0.000486</td>\n",
       "      <td>44.299999</td>\n",
       "    </tr>\n",
       "    <tr>\n",
       "      <th>samples/VBF/frvz_vbf_500757</th>\n",
       "      <td>7</td>\n",
       "      <td>2.287880e+06</td>\n",
       "      <td>101195.085938</td>\n",
       "      <td>0.000502</td>\n",
       "      <td>44.299999</td>\n",
       "    </tr>\n",
       "    <tr>\n",
       "      <th>samples/VBF/frvz_vbf_500757</th>\n",
       "      <td>2</td>\n",
       "      <td>1.568506e+06</td>\n",
       "      <td>130909.734375</td>\n",
       "      <td>0.000429</td>\n",
       "      <td>44.299999</td>\n",
       "    </tr>\n",
       "    <tr>\n",
       "      <th>samples/VBF/frvz_vbf_500757</th>\n",
       "      <td>4</td>\n",
       "      <td>4.717408e+05</td>\n",
       "      <td>491291.656250</td>\n",
       "      <td>0.000531</td>\n",
       "      <td>44.299999</td>\n",
       "    </tr>\n",
       "    <tr>\n",
       "      <th>samples/VBF/frvz_vbf_500757</th>\n",
       "      <td>8</td>\n",
       "      <td>1.150060e+06</td>\n",
       "      <td>115439.734375</td>\n",
       "      <td>0.000014</td>\n",
       "      <td>44.299999</td>\n",
       "    </tr>\n",
       "    <tr>\n",
       "      <th>...</th>\n",
       "      <th>...</th>\n",
       "      <td>...</td>\n",
       "      <td>...</td>\n",
       "      <td>...</td>\n",
       "      <td>...</td>\n",
       "      <td>...</td>\n",
       "    </tr>\n",
       "    <tr>\n",
       "      <th rowspan=\"5\" valign=\"top\">ggF</th>\n",
       "      <th>samples/ggF/frvz_ggf_508893</th>\n",
       "      <td>1</td>\n",
       "      <td>-9.990000e+02</td>\n",
       "      <td>40554.480469</td>\n",
       "      <td>0.028479</td>\n",
       "      <td>58.450001</td>\n",
       "    </tr>\n",
       "    <tr>\n",
       "      <th>samples/ggF/frvz_ggf_508893</th>\n",
       "      <td>3</td>\n",
       "      <td>2.406892e+05</td>\n",
       "      <td>76802.445312</td>\n",
       "      <td>0.029882</td>\n",
       "      <td>58.450001</td>\n",
       "    </tr>\n",
       "    <tr>\n",
       "      <th>samples/ggF/frvz_ggf_508893</th>\n",
       "      <td>2</td>\n",
       "      <td>1.434225e+05</td>\n",
       "      <td>26644.656250</td>\n",
       "      <td>0.029517</td>\n",
       "      <td>58.450001</td>\n",
       "    </tr>\n",
       "    <tr>\n",
       "      <th>samples/ggF/frvz_ggf_508893</th>\n",
       "      <td>0</td>\n",
       "      <td>-9.990000e+02</td>\n",
       "      <td>10709.070312</td>\n",
       "      <td>0.029929</td>\n",
       "      <td>58.450001</td>\n",
       "    </tr>\n",
       "    <tr>\n",
       "      <th>samples/ggF/frvz_ggf_508893</th>\n",
       "      <td>0</td>\n",
       "      <td>-9.990000e+02</td>\n",
       "      <td>10808.947266</td>\n",
       "      <td>0.030318</td>\n",
       "      <td>58.450001</td>\n",
       "    </tr>\n",
       "  </tbody>\n",
       "</table>\n",
       "<p>4628576 rows × 5 columns</p>\n",
       "</div>"
      ],
      "text/plain": [
       "                                    njet30           mjj            MET   \n",
       "origin df_name                                                            \n",
       "VBF    samples/VBF/frvz_vbf_500757       2  1.316194e+06  177043.093750  \\\n",
       "       samples/VBF/frvz_vbf_500757       7  2.287880e+06  101195.085938   \n",
       "       samples/VBF/frvz_vbf_500757       2  1.568506e+06  130909.734375   \n",
       "       samples/VBF/frvz_vbf_500757       4  4.717408e+05  491291.656250   \n",
       "       samples/VBF/frvz_vbf_500757       8  1.150060e+06  115439.734375   \n",
       "...                                    ...           ...            ...   \n",
       "ggF    samples/ggF/frvz_ggf_508893       1 -9.990000e+02   40554.480469   \n",
       "       samples/ggF/frvz_ggf_508893       3  2.406892e+05   76802.445312   \n",
       "       samples/ggF/frvz_ggf_508893       2  1.434225e+05   26644.656250   \n",
       "       samples/ggF/frvz_ggf_508893       0 -9.990000e+02   10709.070312   \n",
       "       samples/ggF/frvz_ggf_508893       0 -9.990000e+02   10808.947266   \n",
       "\n",
       "                                    scale1fb    intLumi  \n",
       "origin df_name                                           \n",
       "VBF    samples/VBF/frvz_vbf_500757  0.000486  44.299999  \n",
       "       samples/VBF/frvz_vbf_500757  0.000502  44.299999  \n",
       "       samples/VBF/frvz_vbf_500757  0.000429  44.299999  \n",
       "       samples/VBF/frvz_vbf_500757  0.000531  44.299999  \n",
       "       samples/VBF/frvz_vbf_500757  0.000014  44.299999  \n",
       "...                                      ...        ...  \n",
       "ggF    samples/ggF/frvz_ggf_508893  0.028479  58.450001  \n",
       "       samples/ggF/frvz_ggf_508893  0.029882  58.450001  \n",
       "       samples/ggF/frvz_ggf_508893  0.029517  58.450001  \n",
       "       samples/ggF/frvz_ggf_508893  0.029929  58.450001  \n",
       "       samples/ggF/frvz_ggf_508893  0.030318  58.450001  \n",
       "\n",
       "[4628576 rows x 5 columns]"
      ]
     },
     "execution_count": 5,
     "metadata": {},
     "output_type": "execute_result"
    }
   ],
   "source": [
    "########################################################\n",
    "############# LECTURA DATOS ROOT FILES #################\n",
    "########################################################\n",
    "df_all = read_datasets(vbf_data, ggf_data, variables, scales, path)\n",
    "df_all"
   ]
  },
  {
   "cell_type": "code",
   "execution_count": 6,
   "metadata": {},
   "outputs": [
    {
     "name": "stdout",
     "output_type": "stream",
     "text": [
      "Numero eventos antes: 4628576\n",
      "Corte: njet30 entre [1, inf]\n",
      "Numero eventos despues: 2013265 \n",
      "\n"
     ]
    },
    {
     "data": {
      "text/html": [
       "<div>\n",
       "<style scoped>\n",
       "    .dataframe tbody tr th:only-of-type {\n",
       "        vertical-align: middle;\n",
       "    }\n",
       "\n",
       "    .dataframe tbody tr th {\n",
       "        vertical-align: top;\n",
       "    }\n",
       "\n",
       "    .dataframe thead th {\n",
       "        text-align: right;\n",
       "    }\n",
       "</style>\n",
       "<table border=\"1\" class=\"dataframe\">\n",
       "  <thead>\n",
       "    <tr style=\"text-align: right;\">\n",
       "      <th></th>\n",
       "      <th>mjj</th>\n",
       "      <th>MET</th>\n",
       "      <th>origin_VBF</th>\n",
       "      <th>origin_ggF</th>\n",
       "      <th>pred_VBF</th>\n",
       "    </tr>\n",
       "  </thead>\n",
       "  <tbody>\n",
       "    <tr>\n",
       "      <th>0</th>\n",
       "      <td>1.316194e+06</td>\n",
       "      <td>177043.093750</td>\n",
       "      <td>1</td>\n",
       "      <td>0</td>\n",
       "      <td>0</td>\n",
       "    </tr>\n",
       "    <tr>\n",
       "      <th>1</th>\n",
       "      <td>2.287880e+06</td>\n",
       "      <td>101195.085938</td>\n",
       "      <td>1</td>\n",
       "      <td>0</td>\n",
       "      <td>0</td>\n",
       "    </tr>\n",
       "    <tr>\n",
       "      <th>2</th>\n",
       "      <td>1.568506e+06</td>\n",
       "      <td>130909.734375</td>\n",
       "      <td>1</td>\n",
       "      <td>0</td>\n",
       "      <td>0</td>\n",
       "    </tr>\n",
       "    <tr>\n",
       "      <th>3</th>\n",
       "      <td>4.717408e+05</td>\n",
       "      <td>491291.656250</td>\n",
       "      <td>1</td>\n",
       "      <td>0</td>\n",
       "      <td>0</td>\n",
       "    </tr>\n",
       "    <tr>\n",
       "      <th>4</th>\n",
       "      <td>1.150060e+06</td>\n",
       "      <td>115439.734375</td>\n",
       "      <td>1</td>\n",
       "      <td>0</td>\n",
       "      <td>0</td>\n",
       "    </tr>\n",
       "    <tr>\n",
       "      <th>...</th>\n",
       "      <td>...</td>\n",
       "      <td>...</td>\n",
       "      <td>...</td>\n",
       "      <td>...</td>\n",
       "      <td>...</td>\n",
       "    </tr>\n",
       "    <tr>\n",
       "      <th>2012571</th>\n",
       "      <td>8.682021e+04</td>\n",
       "      <td>36471.000000</td>\n",
       "      <td>0</td>\n",
       "      <td>1</td>\n",
       "      <td>0</td>\n",
       "    </tr>\n",
       "    <tr>\n",
       "      <th>2012572</th>\n",
       "      <td>6.930484e+04</td>\n",
       "      <td>5845.552246</td>\n",
       "      <td>0</td>\n",
       "      <td>1</td>\n",
       "      <td>0</td>\n",
       "    </tr>\n",
       "    <tr>\n",
       "      <th>2012573</th>\n",
       "      <td>5.065558e+05</td>\n",
       "      <td>27214.392578</td>\n",
       "      <td>0</td>\n",
       "      <td>1</td>\n",
       "      <td>0</td>\n",
       "    </tr>\n",
       "    <tr>\n",
       "      <th>2012574</th>\n",
       "      <td>2.406892e+05</td>\n",
       "      <td>76802.445312</td>\n",
       "      <td>0</td>\n",
       "      <td>1</td>\n",
       "      <td>0</td>\n",
       "    </tr>\n",
       "    <tr>\n",
       "      <th>2012575</th>\n",
       "      <td>1.434225e+05</td>\n",
       "      <td>26644.656250</td>\n",
       "      <td>0</td>\n",
       "      <td>1</td>\n",
       "      <td>0</td>\n",
       "    </tr>\n",
       "  </tbody>\n",
       "</table>\n",
       "<p>2012576 rows × 5 columns</p>\n",
       "</div>"
      ],
      "text/plain": [
       "                  mjj            MET  origin_VBF  origin_ggF  pred_VBF\n",
       "0        1.316194e+06  177043.093750           1           0         0\n",
       "1        2.287880e+06  101195.085938           1           0         0\n",
       "2        1.568506e+06  130909.734375           1           0         0\n",
       "3        4.717408e+05  491291.656250           1           0         0\n",
       "4        1.150060e+06  115439.734375           1           0         0\n",
       "...               ...            ...         ...         ...       ...\n",
       "2012571  8.682021e+04   36471.000000           0           1         0\n",
       "2012572  6.930484e+04    5845.552246           0           1         0\n",
       "2012573  5.065558e+05   27214.392578           0           1         0\n",
       "2012574  2.406892e+05   76802.445312           0           1         0\n",
       "2012575  1.434225e+05   26644.656250           0           1         0\n",
       "\n",
       "[2012576 rows x 5 columns]"
      ]
     },
     "execution_count": 6,
     "metadata": {},
     "output_type": "execute_result"
    }
   ],
   "source": [
    "#################################################################\n",
    "#################### PROCESAMIENTO DE DATOS #####################\n",
    "#################################################################\n",
    "\n",
    "# hago los cortes definitivos\n",
    "df_all_cut = do_cuts(df_all, cuts, scales)\n",
    "\n",
    "# modifico df_all para aplicar ml\n",
    "df_cortes = df_all_cut\n",
    "df_cortes = df_cortes.droplevel('df_name')\n",
    "df_cortes = df_cortes.drop(['njet30', 'scale1fb', 'intLumi'], axis=1) # omito njet30, intlumi y scale1f\n",
    "df_cortes = df_cortes.reset_index(level='origin')\n",
    "df_cortes = pd.get_dummies(df_cortes, columns=['origin'], dtype=int)\n",
    "\n",
    "# creo los 2 filtros para vbf, si ambos son ciertos, es vbf (1) si no, no es vbf (0)\n",
    "filtro_MET = df_cortes[\"MET\"] >= 225000\n",
    "filtro_mjj = df_cortes[\"mjj\"] >= 1000000\n",
    "df_cortes['pred_VBF'] = np.where(filtro_MET & filtro_mjj, 1, 0)\n",
    "\n",
    "df_cortes"
   ]
  },
  {
   "cell_type": "code",
   "execution_count": 7,
   "metadata": {},
   "outputs": [],
   "source": [
    "matriz = confusion_matrix(df_cortes[\"origin_VBF\"], df_cortes[\"pred_VBF\"])"
   ]
  },
  {
   "cell_type": "code",
   "execution_count": 8,
   "metadata": {},
   "outputs": [
    {
     "data": {
      "image/png": "[encoded data removed]",
      "text/plain": [
       "<Figure size 600x600 with 1 Axes>"
      ]
     },
     "metadata": {},
     "output_type": "display_data"
    }
   ],
   "source": [
    "plot_matriz(matriz, porcentaje = True, normalizado=True)"
   ]
  },
  {
   "cell_type": "code",
   "execution_count": 15,
   "metadata": {},
   "outputs": [
    {
     "data": {
      "image/png": "[encoded data removed]",
      "text/plain": [
       "<Figure size 600x600 with 1 Axes>"
      ]
     },
     "metadata": {},
     "output_type": "display_data"
    }
   ],
   "source": [
    "plot_confusion_barras(matriz)"
   ]
  },
  {
   "cell_type": "markdown",
   "metadata": {},
   "source": [
    "### COMO LO HACEN EN TESIS"
   ]
  },
  {
   "cell_type": "code",
   "execution_count": 10,
   "metadata": {},
   "outputs": [],
   "source": [
    "# modifico df_all para aplicar ml\n",
    "# df_cortes_2 = df_all_cut\n",
    "# df_cortes_2 = df_cortes_2.droplevel('df_name')\n",
    "# df_cortes_2 = df_cortes_2.drop(['njet30', 'scale1fb', 'intLumi'], axis=1) # omito njet30, intlumi y scale1f\n",
    "# df_cortes_2 = df_cortes_2.reset_index(level='origin')\n",
    "# df_cortes_2 = pd.get_dummies(df_cortes_2, columns=['origin'], dtype=int)\n",
    "\n",
    "# # creo los 2 filtros para vbf, si ambos son ciertos, es vbf (1) si no, no es vbf (0)\n",
    "# filtro_MET = df_cortes_2[\"MET\"] >= 225000\n",
    "# filtro_mjj = df_cortes_2[\"mjj\"] >= 1000000\n",
    "# filtro_MET_inv = df_cortes_2[\"MET\"] <= 225000\n",
    "# filtro_mjj_inv = df_cortes_2[\"mjj\"] <= 1000000\n",
    "# df_cortes_2['pred_VBF'] = np.where(filtro_MET & filtro_mjj, 1, 0)\n",
    "# df_cortes_2['pred_ggF'] = np.where(filtro_MET_inv & filtro_mjj_inv, 1, 0)\n",
    "\n",
    "# df_cortes_2\n"
   ]
  },
  {
   "cell_type": "code",
   "execution_count": 11,
   "metadata": {},
   "outputs": [],
   "source": [
    "# hago la matriz\n",
    "\n",
    "# TRUE POSITIVE\n",
    "# TP_VBF = df_cortes_2[(df_cortes_2[\"origin_VBF\"] == 1) & (df_cortes_2[\"pred_VBF\"] == 1)].count()\n",
    "# TP_ggF = df_cortes_2[(df_cortes_2[\"origin_ggF\"] == 1) & (df_cortes_2[\"pred_ggF\"] == 1)].count()"
   ]
  },
  {
   "cell_type": "code",
   "execution_count": null,
   "metadata": {},
   "outputs": [],
   "source": []
  }
 ],
 "metadata": {
  "kernelspec": {
   "display_name": "Python 3",
   "language": "python",
   "name": "python3"
  },
  "language_info": {
   "codemirror_mode": {
    "name": "ipython",
    "version": 3
   },
   "file_extension": ".py",
   "mimetype": "text/x-python",
   "name": "python",
   "nbconvert_exporter": "python",
   "pygments_lexer": "ipython3",
   "version": "3.10.12"
  },
  "orig_nbformat": 4
 },
 "nbformat": 4,
 "nbformat_minor": 2
}
